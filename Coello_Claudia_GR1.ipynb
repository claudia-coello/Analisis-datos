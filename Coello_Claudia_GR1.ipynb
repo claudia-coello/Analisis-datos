{
 "cells": [
  {
   "cell_type": "code",
   "execution_count": 16,
   "id": "aac58f16-778b-4bd7-91f3-259113ee48c6",
   "metadata": {},
   "outputs": [],
   "source": [
    "c=2+3\n",
    "print(c)"
   ]
  },
  {
   "cell_type": "code",
   "execution_count": 18,
   "id": "fb36f77f-19f2-4d5c-8450-450c29ced708",
   "metadata": {},
   "outputs": [
    {
     "name": "stdout",
     "output_type": "stream",
     "text": [
      "5\n"
     ]
    }
   ],
   "source": [
    "print(c)"
   ]
  },
  {
   "cell_type": "code",
   "execution_count": 8,
   "id": "0a78e8d1-a4c9-43e1-a5c4-49b431bb7154",
   "metadata": {},
   "outputs": [],
   "source": [
    "c=2-3"
   ]
  },
  {
   "cell_type": "code",
   "execution_count": 17,
   "id": "76701666-e0a9-4207-a3d0-8e39eb7ecba4",
   "metadata": {},
   "outputs": [
    {
     "data": {
      "text/plain": [
       "int"
      ]
     },
     "execution_count": 17,
     "metadata": {},
     "output_type": "execute_result"
    }
   ],
   "source": [
    "type(c)"
   ]
  },
  {
   "cell_type": "code",
   "execution_count": 9,
   "id": "e34d7e29-4657-4814-83e2-5457719d9e27",
   "metadata": {},
   "outputs": [],
   "source": [
    "c=2*3"
   ]
  },
  {
   "cell_type": "code",
   "execution_count": 10,
   "id": "c36a6983-14d4-4f67-b96f-0719adfe2e04",
   "metadata": {},
   "outputs": [],
   "source": [
    "c=2/3"
   ]
  },
  {
   "cell_type": "code",
   "execution_count": 11,
   "id": "5575daee-f407-4182-a056-78d9bd0ef188",
   "metadata": {},
   "outputs": [],
   "source": [
    "c=2**3"
   ]
  },
  {
   "cell_type": "code",
   "execution_count": 13,
   "id": "9ab6739f-96f5-4fbc-8ece-8a0f10e5804d",
   "metadata": {},
   "outputs": [],
   "source": [
    "c=2//3"
   ]
  },
  {
   "cell_type": "code",
   "execution_count": 19,
   "id": "c7bc599d-56f7-4e4e-ab27-f16462382ee1",
   "metadata": {},
   "outputs": [],
   "source": [
    "c=2%3"
   ]
  },
  {
   "cell_type": "code",
   "execution_count": 20,
   "id": "cf91d820-4c5b-4ff4-be5c-4153bcaa509f",
   "metadata": {},
   "outputs": [
    {
     "data": {
      "text/plain": [
       "True"
      ]
     },
     "execution_count": 20,
     "metadata": {},
     "output_type": "execute_result"
    }
   ],
   "source": [
    "3>2"
   ]
  },
  {
   "cell_type": "code",
   "execution_count": 21,
   "id": "5cd68ae4-8754-46e7-83a4-99391caab842",
   "metadata": {},
   "outputs": [
    {
     "data": {
      "text/plain": [
       "False"
      ]
     },
     "execution_count": 21,
     "metadata": {},
     "output_type": "execute_result"
    }
   ],
   "source": [
    "3<2"
   ]
  },
  {
   "cell_type": "code",
   "execution_count": 22,
   "id": "9f4bffe1-4c74-4d22-b117-52b06ed27ad7",
   "metadata": {},
   "outputs": [
    {
     "data": {
      "text/plain": [
       "True"
      ]
     },
     "execution_count": 22,
     "metadata": {},
     "output_type": "execute_result"
    }
   ],
   "source": [
    "2>=1+1"
   ]
  },
  {
   "cell_type": "code",
   "execution_count": 23,
   "id": "e0bd66d2-67c2-452e-8c68-e1802d9d44d0",
   "metadata": {},
   "outputs": [
    {
     "data": {
      "text/plain": [
       "False"
      ]
     },
     "execution_count": 23,
     "metadata": {},
     "output_type": "execute_result"
    }
   ],
   "source": [
    "4-2<=1"
   ]
  },
  {
   "cell_type": "code",
   "execution_count": 24,
   "id": "2a1690b1-238e-407a-b684-ab3a7fc7e4ef",
   "metadata": {},
   "outputs": [
    {
     "data": {
      "text/plain": [
       "True"
      ]
     },
     "execution_count": 24,
     "metadata": {},
     "output_type": "execute_result"
    }
   ],
   "source": [
    "2==1+1"
   ]
  },
  {
   "cell_type": "code",
   "execution_count": 25,
   "id": "6d7e8d31-e2c6-413c-a54c-f7f87e01f636",
   "metadata": {},
   "outputs": [
    {
     "data": {
      "text/plain": [
       "False"
      ]
     },
     "execution_count": 25,
     "metadata": {},
     "output_type": "execute_result"
    }
   ],
   "source": [
    "6/2!=3"
   ]
  },
  {
   "cell_type": "code",
   "execution_count": 26,
   "id": "f5c78a2d-1690-46df-b717-4f2460dfef2e",
   "metadata": {},
   "outputs": [
    {
     "name": "stdin",
     "output_type": "stream",
     "text": [
      "Ingresa una cadena de texto:  cadena\n"
     ]
    },
    {
     "name": "stdout",
     "output_type": "stream",
     "text": [
      "La cadena de ingreso es:\n",
      " cadena\n"
     ]
    }
   ],
   "source": [
    "cadena = input(\"Ingresa una cadena de texto: \")\n",
    "print(\"La cadena de ingreso es:\\n\", cadena)"
   ]
  },
  {
   "cell_type": "code",
   "execution_count": 29,
   "id": "ae41df2c-a1f9-47b1-8033-b87028242624",
   "metadata": {},
   "outputs": [
    {
     "name": "stdin",
     "output_type": "stream",
     "text": [
      "Ingrese su peso en kg:  50\n",
      "Ingrese su estatura en metros:  1.5\n"
     ]
    },
    {
     "name": "stdout",
     "output_type": "stream",
     "text": [
      "Su indice de masa corporal es:\n",
      " 22.22\n"
     ]
    }
   ],
   "source": [
    "peso = float(input(\"Ingrese su peso en kg: \"))\n",
    "estatura = float(input(\"Ingrese su estatura en metros: \"))\n",
    "imc = round(peso/estatura**2,2)\n",
    "print(\"Su indice de masa corporal es:\\n\", imc)"
   ]
  },
  {
   "cell_type": "code",
   "execution_count": 30,
   "id": "1fcb6486-c1d5-4347-855a-5b9cafba9330",
   "metadata": {},
   "outputs": [
    {
     "data": {
      "text/plain": [
       "1"
      ]
     },
     "execution_count": 30,
     "metadata": {},
     "output_type": "execute_result"
    }
   ],
   "source": [
    "s=\"Hola mundo\""
   ]
  },
  {
   "cell_type": "code",
   "execution_count": 31,
   "id": "9ca08234-0f04-4951-8b3f-fee224a48e73",
   "metadata": {},
   "outputs": [
    {
     "data": {
      "text/plain": [
       "1"
      ]
     },
     "execution_count": 31,
     "metadata": {},
     "output_type": "execute_result"
    }
   ],
   "source": [
    "s.count(\"Hola\")"
   ]
  },
  {
   "cell_type": "code",
   "execution_count": 37,
   "id": "299b8541-8a4e-4e54-89f6-64fcedfb1ff3",
   "metadata": {},
   "outputs": [
    {
     "data": {
      "text/plain": [
       "4"
      ]
     },
     "execution_count": 37,
     "metadata": {},
     "output_type": "execute_result"
    }
   ],
   "source": [
    "n=\"Si puedes imaginarlo puedes lograrlo, si puedes soñarlo, puedes hacerlo realidad.\"\n",
    "n.count(\"puedes\")"
   ]
  },
  {
   "cell_type": "code",
   "execution_count": 39,
   "id": "ee982e64-8c9c-4de8-ad5c-4e4d128afc50",
   "metadata": {},
   "outputs": [
    {
     "data": {
      "text/plain": [
       "81"
      ]
     },
     "execution_count": 39,
     "metadata": {},
     "output_type": "execute_result"
    }
   ],
   "source": [
    "len(n)"
   ]
  },
  {
   "cell_type": "code",
   "execution_count": 40,
   "id": "6063c1ed-9b61-4d9e-bc3d-6544bbe0b8db",
   "metadata": {},
   "outputs": [],
   "source": [
    "palabras = n.split()"
   ]
  },
  {
   "cell_type": "code",
   "execution_count": 42,
   "id": "af71d6d7-726b-43ce-b126-d505fc188f4b",
   "metadata": {},
   "outputs": [
    {
     "data": {
      "text/plain": [
       "11"
      ]
     },
     "execution_count": 42,
     "metadata": {},
     "output_type": "execute_result"
    }
   ],
   "source": [
    "len(palabras)"
   ]
  },
  {
   "cell_type": "code",
   "execution_count": 45,
   "id": "744be2a0-ff3d-4c3f-b6a0-9d9355e551f0",
   "metadata": {},
   "outputs": [
    {
     "data": {
      "text/plain": [
       "36.36363636363637"
      ]
     },
     "execution_count": 45,
     "metadata": {},
     "output_type": "execute_result"
    }
   ],
   "source": [
    "metricaUno=(n.count(\"puedes\")/len(palabras))*100"
   ]
  },
  {
   "cell_type": "code",
   "execution_count": 47,
   "id": "8e665140-5b59-475c-9271-53136e900523",
   "metadata": {},
   "outputs": [
    {
     "data": {
      "text/plain": [
       "9.090909090909092"
      ]
     },
     "execution_count": 47,
     "metadata": {},
     "output_type": "execute_result"
    }
   ],
   "source": [
    "metricaDos=(n.count(\"si\")/len(palabras))*100"
   ]
  },
  {
   "cell_type": "code",
   "execution_count": 51,
   "id": "84bbf0ab-09dc-4fc0-a656-bb3575cdc535",
   "metadata": {},
   "outputs": [],
   "source": [
    "metricaTres=(n.count(\",\")/len(palabras))*100"
   ]
  },
  {
   "cell_type": "code",
   "execution_count": 52,
   "id": "591c4e6b-ab82-4822-abd8-5fad81085228",
   "metadata": {},
   "outputs": [],
   "source": [
    "palabra='Python'"
   ]
  },
  {
   "cell_type": "code",
   "execution_count": 53,
   "id": "53248a6c-90db-497d-8033-2736bf78b8db",
   "metadata": {},
   "outputs": [
    {
     "data": {
      "text/plain": [
       "'Py'"
      ]
     },
     "execution_count": 53,
     "metadata": {},
     "output_type": "execute_result"
    }
   ],
   "source": [
    "palabra[:2]"
   ]
  },
  {
   "cell_type": "code",
   "execution_count": 54,
   "id": "f3b2cc73-8b3f-4935-819f-07f86c47bfed",
   "metadata": {},
   "outputs": [
    {
     "data": {
      "text/plain": [
       "'on'"
      ]
     },
     "execution_count": 54,
     "metadata": {},
     "output_type": "execute_result"
    }
   ],
   "source": [
    "palabra[4:]"
   ]
  },
  {
   "cell_type": "code",
   "execution_count": 55,
   "id": "eb547772-512c-4163-9c7b-b51f98ad54a7",
   "metadata": {},
   "outputs": [
    {
     "data": {
      "text/plain": [
       "'on'"
      ]
     },
     "execution_count": 55,
     "metadata": {},
     "output_type": "execute_result"
    }
   ],
   "source": [
    "palabra[-2:]"
   ]
  },
  {
   "cell_type": "code",
   "execution_count": 56,
   "id": "254ae419-e53e-4556-ac68-d0c1150e969b",
   "metadata": {},
   "outputs": [
    {
     "data": {
      "text/plain": [
       "' p'"
      ]
     },
     "execution_count": 56,
     "metadata": {},
     "output_type": "execute_result"
    }
   ],
   "source": [
    "n[2:4]"
   ]
  },
  {
   "cell_type": "code",
   "execution_count": 58,
   "id": "7e5b5d90-f02f-4418-a501-c35085e6b5ae",
   "metadata": {},
   "outputs": [
    {
     "data": {
      "text/plain": [
       "'Si puedes imaginarlo puedes lograrlo, si puedes soñarlo, puedes hacerlo r'"
      ]
     },
     "execution_count": 58,
     "metadata": {},
     "output_type": "execute_result"
    }
   ],
   "source": [
    "n[:-8]"
   ]
  },
  {
   "cell_type": "code",
   "execution_count": 60,
   "id": "fc64008b-d32b-4c4b-b87e-8f07ea115393",
   "metadata": {},
   "outputs": [
    {
     "data": {
      "text/plain": [
       "'Si causas imaginarlo causas lograrlo, si causas soñarlo, causas hacerlo realidad.'"
      ]
     },
     "execution_count": 60,
     "metadata": {},
     "output_type": "execute_result"
    }
   ],
   "source": [
    "n.replace(\"puedes\",\"causas\")"
   ]
  },
  {
   "cell_type": "code",
   "execution_count": 63,
   "id": "67c92672-985e-43eb-9faa-f36bc9fc8eac",
   "metadata": {},
   "outputs": [
    {
     "name": "stdout",
     "output_type": "stream",
     "text": [
      "la cadena tiene espacios\n",
      "la cadena tiene espacios \n",
      " la cadena tiene espacios\n"
     ]
    }
   ],
   "source": [
    "cadena = \" la cadena tiene espacios \"\n",
    "print(cadena.strip())\n",
    "print(cadena.lstrip())\n",
    "print(cadena.rstrip())"
   ]
  },
  {
   "cell_type": "code",
   "execution_count": 64,
   "id": "ea8bbc6d-9b57-43ef-b544-798f5585bf6b",
   "metadata": {},
   "outputs": [
    {
     "name": "stdout",
     "output_type": "stream",
     "text": [
      " LA CADENA TIENE ESPACIOS \n",
      " la cadena tiene espacios \n"
     ]
    }
   ],
   "source": [
    "print(cadena.upper())\n",
    "print(cadena.lower())"
   ]
  },
  {
   "cell_type": "code",
   "execution_count": 71,
   "id": "891579ee-c89e-4bea-9259-3b17d5e264b9",
   "metadata": {},
   "outputs": [],
   "source": [
    "textoLargo = \"La CiEnCiA de DaToS es un CaMpO faScinAnTe donde PYTHON se conVieRte en un HeRRaMiEnTa mUy PODEROSA. a través de la pRoGRaMaCiÓN en pYtHoN es PosIbLe analizar DaToS, liMpIar dAtOs, trAnsFoRmaR dAtOs y generAr MODELOS. lA CiEnCiA dE DaToS combina matemáTICas, EstadÍsticA, prOGrAmAcIóN y eL enTendimIento Del NegocIo. Un CIEntífiCo DE DaToS debe SABER cómo usar PyThOn, cómo aplicar librErías como NumPy, PaNdas, MaTPlotLib, y también dominar conCeptOs de mAcHiNe LeArNiNg. La pRoGrAmAcIón en PYthon no sólO SirVe pAra eL AnÁliSis, SiNo tAmBiÉn paRa el dEsArRoLlO dE aPlIcAcIoNeS, auTOMatización de tArEas y cReAcIón de mOdElOs DE PrOnÓsTiCo. En El cAmPo dE lA CiEnCiA De DaToS, La pAlAbRa DaToS Se RePiTe cOnStAnTeMeNtE pOrQuE ToDo Gira en ToRnO a eLlOs. El teRmiNo “DaToS” pUeDe ApAreCeR En dIfErEnTeS CoNtExToS, Al igUaL qUe lA PaLaBrA “pRoGrAmAcIóN” qUe Se UtIlIzA PaRa dEsCrIbIr LoS pRoCeSoS. PyThOn, PyThOn, PYTHON: No imPoRtA cÓmO Lo EsCrIbAs, siEmPrE eS eL LaNgUaJe ClAvE eN eStE MuNdO. La ClAvE Es AprEnDeR a noRmAliZaR tExTo, liMpIar PaLaBrAs y uNiFiCaR eL mAnEjO dE MaYúScUlAs Y MiNúScUlAs. Un EjErCiCiO tíPiCo eS cOnTaR CuÁnTaS vEcEs ApArEcE lA PaLaBrA “DaToS” o lA PaLaBrA “PyThOn” eN uNa fRaSe Larga. La CiEnCiA, La CiEnCiA, La CiEnCiA dE DaToS rEpEtIdA dEsDe mÚlTiPlEs EnFoQuEs mUeStRa La ImPoRtAnCiA dE rEpEtIr PaLaBrAs ClAvE. En rEsUmEn, PyThOn y dAtOs sOn lAs PaLaBrAs mÁs RePeTiDaS eN eStA FrAsE ExTrAlArGa PaRa QuE pUeDaS HaCeR Tu PrUeBa De CoNtAr PaLaBrAs.\"\n",
    "textoLimpio = textoLargo.lower()"
   ]
  },
  {
   "cell_type": "code",
   "execution_count": 75,
   "id": "0941d9bf-e63d-405a-bded-4caf99ff0c9f",
   "metadata": {},
   "outputs": [
    {
     "name": "stdout",
     "output_type": "stream",
     "text": [
      "['la', 'ciencia', 'de', 'datos', 'es', 'un', 'campo', 'fascinante', 'donde', 'python', 'se', 'convierte', 'en', 'un', 'herramienta', 'muy', 'poderosa.', 'a', 'través', 'de', 'la', 'programación', 'en', 'python', 'es', 'posible', 'analizar', 'datos,', 'limpiar', 'datos,', 'transformar', 'datos', 'y', 'generar', 'modelos.', 'la', 'ciencia', 'de', 'datos', 'combina', 'matemáticas,', 'estadística,', 'programación', 'y', 'el', 'entendimiento', 'del', 'negocio.', 'un', 'científico', 'de', 'datos', 'debe', 'saber', 'cómo', 'usar', 'python,', 'cómo', 'aplicar', 'librerías', 'como', 'numpy,', 'pandas,', 'matplotlib,', 'y', 'también', 'dominar', 'conceptos', 'de', 'machine', 'learning.', 'la', 'programación', 'en', 'python', 'no', 'sólo', 'sirve', 'para', 'el', 'análisis,', 'sino', 'también', 'para', 'el', 'desarrollo', 'de', 'aplicaciones,', 'automatización', 'de', 'tareas', 'y', 'creación', 'de', 'modelos', 'de', 'pronóstico.', 'en', 'el', 'campo', 'de', 'la', 'ciencia', 'de', 'datos,', 'la', 'palabra', 'datos', 'se', 'repite', 'constantemente', 'porque', 'todo', 'gira', 'en', 'torno', 'a', 'ellos.', 'el', 'termino', '“datos”', 'puede', 'aparecer', 'en', 'diferentes', 'contextos,', 'al', 'igual', 'que', 'la', 'palabra', '“programación”', 'que', 'se', 'utiliza', 'para', 'describir', 'los', 'procesos.', 'python,', 'python,', 'python:', 'no', 'importa', 'cómo', 'lo', 'escribas,', 'siempre', 'es', 'el', 'languaje', 'clave', 'en', 'este', 'mundo.', 'la', 'clave', 'es', 'aprender', 'a', 'normalizar', 'texto,', 'limpiar', 'palabras', 'y', 'unificar', 'el', 'manejo', 'de', 'mayúsculas', 'y', 'minúsculas.', 'un', 'ejercicio', 'típico', 'es', 'contar', 'cuántas', 'veces', 'aparece', 'la', 'palabra', '“datos”', 'o', 'la', 'palabra', '“python”', 'en', 'una', 'frase', 'larga.', 'la', 'ciencia,', 'la', 'ciencia,', 'la', 'ciencia', 'de', 'datos', 'repetida', 'desde', 'múltiples', 'enfoques', 'muestra', 'la', 'importancia', 'de', 'repetir', 'palabras', 'clave.', 'en', 'resumen,', 'python', 'y', 'datos', 'son', 'las', 'palabras', 'más', 'repetidas', 'en', 'esta', 'frase', 'extralarga', 'para', 'que', 'puedas', 'hacer', 'tu', 'prueba', 'de', 'contar', 'palabras.']\n"
     ]
    }
   ],
   "source": [
    "palabras = textoLimpio.split()\n",
    "print(palabras)\n",
    "numeroPalabras = len(palabras)\n",
    "porcentaje = (palabras.count(\"datos\")/numeroPalabras)*100"
   ]
  },
  {
   "cell_type": "code",
   "execution_count": 76,
   "id": "9a94b9be-c43c-4c29-ada1-10be5874ef4a",
   "metadata": {},
   "outputs": [
    {
     "name": "stdout",
     "output_type": "stream",
     "text": [
      "3.004291845493562\n"
     ]
    }
   ],
   "source": [
    "print(porcentaje)"
   ]
  },
  {
   "cell_type": "code",
   "execution_count": 78,
   "id": "34de261a-9e19-418b-82a3-c745cdbea9ec",
   "metadata": {},
   "outputs": [
    {
     "data": {
      "text/plain": [
       "[1, 4, 9, 16, 25]"
      ]
     },
     "execution_count": 78,
     "metadata": {},
     "output_type": "execute_result"
    }
   ],
   "source": [
    "cuadrados = [1,4,9,16,25]\n",
    "cuadrados"
   ]
  },
  {
   "cell_type": "code",
   "execution_count": 79,
   "id": "a4a802ee-6584-4d9f-9ece-9c47519417df",
   "metadata": {},
   "outputs": [
    {
     "data": {
      "text/plain": [
       "[1, 8, 27, 64, 125]"
      ]
     },
     "execution_count": 79,
     "metadata": {},
     "output_type": "execute_result"
    }
   ],
   "source": [
    "cubos=[1,8,27,65,125]\n",
    "cubos[3]=64\n",
    "cubos"
   ]
  },
  {
   "cell_type": "code",
   "execution_count": 81,
   "id": "605e5df6-f821-41a9-99e6-1e60cce07c5d",
   "metadata": {},
   "outputs": [
    {
     "data": {
      "text/plain": [
       "['Carlos', 'Cristina', 'Rodrigo', 'Hugo']"
      ]
     },
     "execution_count": 81,
     "metadata": {},
     "output_type": "execute_result"
    }
   ],
   "source": [
    "nombres=\"Carlos|Cristina|Rodrigo|Hugo\"\n",
    "nombres.split(\"|\")"
   ]
  },
  {
   "cell_type": "code",
   "execution_count": 83,
   "id": "8e7b8331-6af1-4aee-8440-42272a380c7f",
   "metadata": {},
   "outputs": [
    {
     "data": {
      "text/plain": [
       "[1, 8, 27, 64, 125, 216, 343, 216, 343]"
      ]
     },
     "execution_count": 83,
     "metadata": {},
     "output_type": "execute_result"
    }
   ],
   "source": [
    "cubos.append(216)\n",
    "cubos.append(7**3)\n",
    "cubos"
   ]
  },
  {
   "cell_type": "code",
   "execution_count": 84,
   "id": "26cc1f92-e222-42ef-b33a-c9267d398a5b",
   "metadata": {},
   "outputs": [],
   "source": [
    "a=['a','b','c']\n",
    "n=[1,2,3]\n",
    "x=[a,n]"
   ]
  },
  {
   "cell_type": "code",
   "execution_count": 89,
   "id": "872adc1b-92df-4101-8ddf-40f6ecb5a3e7",
   "metadata": {},
   "outputs": [
    {
     "data": {
      "text/plain": [
       "['a', 'b', 'c']"
      ]
     },
     "execution_count": 89,
     "metadata": {},
     "output_type": "execute_result"
    }
   ],
   "source": [
    "x[0]"
   ]
  },
  {
   "cell_type": "code",
   "execution_count": 90,
   "id": "e02e0d5e-62c2-4c41-9047-72473fe62cfa",
   "metadata": {},
   "outputs": [
    {
     "data": {
      "text/plain": [
       "'b'"
      ]
     },
     "execution_count": 90,
     "metadata": {},
     "output_type": "execute_result"
    }
   ],
   "source": [
    "x[0][1]"
   ]
  },
  {
   "cell_type": "code",
   "execution_count": 93,
   "id": "34bb64f0-dd3d-4ca1-a118-c2558a22aeb5",
   "metadata": {},
   "outputs": [
    {
     "data": {
      "text/plain": [
       "[1, 2, 3]"
      ]
     },
     "execution_count": 93,
     "metadata": {},
     "output_type": "execute_result"
    }
   ],
   "source": [
    "x[1]"
   ]
  },
  {
   "cell_type": "code",
   "execution_count": 98,
   "id": "ddb80d51-71ab-489c-9b12-d9c9e0053253",
   "metadata": {},
   "outputs": [
    {
     "name": "stdout",
     "output_type": "stream",
     "text": [
      "1,1,2,3,5,8,13,21,34,55,89,"
     ]
    }
   ],
   "source": [
    "a,b = 0,1\n",
    "while b < 100:\n",
    "    print(b, end=\",\")\n",
    "    a, b= b, a+b"
   ]
  },
  {
   "cell_type": "code",
   "execution_count": 97,
   "id": "2a31ed38-ea2a-4ff7-9853-6d7e00b48a60",
   "metadata": {},
   "outputs": [
    {
     "name": "stdout",
     "output_type": "stream",
     "text": [
      "gato 4\n",
      "ventana 7\n",
      "perro 5\n"
     ]
    }
   ],
   "source": [
    "palabras=['gato', 'ventana', 'perro']\n",
    "for p in palabras:\n",
    "    print(p, len(p))"
   ]
  },
  {
   "cell_type": "code",
   "execution_count": 99,
   "id": "93e5a3d4-2a07-4542-a011-4634066c1441",
   "metadata": {},
   "outputs": [
    {
     "name": "stdout",
     "output_type": "stream",
     "text": [
      "{'manzana', 'naranaja', 'pera', 'naranja', 'banana'}\n"
     ]
    }
   ],
   "source": [
    "canasta={'manzana','naranaja','pera','naranja','banana'}\n",
    "print(canasta)#no muestra los duplicados"
   ]
  },
  {
   "cell_type": "code",
   "execution_count": 101,
   "id": "d242a81b-9ba2-4f99-9b05-3cdbae9f6932",
   "metadata": {},
   "outputs": [
    {
     "data": {
      "text/plain": [
       "True"
      ]
     },
     "execution_count": 101,
     "metadata": {},
     "output_type": "execute_result"
    }
   ],
   "source": [
    "'naranja' in canasta"
   ]
  },
  {
   "cell_type": "code",
   "execution_count": 102,
   "id": "6b5e5b40-bf5c-4b70-a89a-056275557315",
   "metadata": {},
   "outputs": [
    {
     "data": {
      "text/plain": [
       "False"
      ]
     },
     "execution_count": 102,
     "metadata": {},
     "output_type": "execute_result"
    }
   ],
   "source": [
    "'yerba' in canasta"
   ]
  },
  {
   "cell_type": "code",
   "execution_count": 104,
   "id": "4f67f704-b7f1-4e2e-bd2f-3bf852728cfb",
   "metadata": {},
   "outputs": [
    {
     "name": "stdout",
     "output_type": "stream",
     "text": [
      "Lista original:  [1, 2, 2, 3, 4, 4, 5]\n",
      "Conjunto:  {1, 2, 3, 4, 5}\n"
     ]
    }
   ],
   "source": [
    "lista=[1,2,2,3,4,4,5]\n",
    "\n",
    "conjunto= set(lista)\n",
    "\n",
    "print(\"Lista original: \", lista)\n",
    "print(\"Conjunto: \", conjunto)"
   ]
  },
  {
   "cell_type": "code",
   "execution_count": 107,
   "id": "6e5cc6b9-591a-4015-9155-03db792c0a26",
   "metadata": {},
   "outputs": [
    {
     "name": "stdout",
     "output_type": "stream",
     "text": [
      "Conjunto original:  {1, 2, 3, 4, 5}\n",
      "lista:  [1, 2, 3, 4, 5]\n"
     ]
    }
   ],
   "source": [
    "conjunto= {1,2,2,3,4,4,5}\n",
    "lista=list(conjunto)\n",
    "\n",
    "print(\"Conjunto original: \", conjunto)\n",
    "print(\"lista: \", lista)"
   ]
  },
  {
   "cell_type": "code",
   "execution_count": 109,
   "id": "24cda870-c421-4d1b-baef-7d7a5a7f3383",
   "metadata": {},
   "outputs": [
    {
     "data": {
      "text/plain": [
       "{'Pedro': 4098, 'Luis': 4139, 'Juan': 4127}"
      ]
     },
     "execution_count": 109,
     "metadata": {},
     "output_type": "execute_result"
    }
   ],
   "source": [
    "tel={'Pedro':4098,'Luis':4139}\n",
    "tel['Juan']=4127\n",
    "tel"
   ]
  },
  {
   "cell_type": "code",
   "execution_count": 115,
   "id": "957e3b40-3a24-4afe-8421-346698bf9e01",
   "metadata": {},
   "outputs": [
    {
     "data": {
      "text/plain": [
       "{'Pedro': 4098, 'Juan': 4127, 'Lili': 4127}"
      ]
     },
     "execution_count": 115,
     "metadata": {},
     "output_type": "execute_result"
    }
   ],
   "source": [
    "del tel['Luis']\n",
    "tel['Lili']=4127\n",
    "tel"
   ]
  },
  {
   "cell_type": "code",
   "execution_count": 112,
   "id": "62183917-c460-4b4f-ae77-1db3d6654bf9",
   "metadata": {},
   "outputs": [
    {
     "data": {
      "text/plain": [
       "['Juan', 'Luis', 'Pedro']"
      ]
     },
     "execution_count": 112,
     "metadata": {},
     "output_type": "execute_result"
    }
   ],
   "source": [
    "list(tel.keys())\n",
    "sorted(tel.keys())"
   ]
  },
  {
   "cell_type": "code",
   "execution_count": 114,
   "id": "c9f64331-3815-47cd-a486-4e8323bc5c23",
   "metadata": {},
   "outputs": [
    {
     "data": {
      "text/plain": [
       "True"
      ]
     },
     "execution_count": 114,
     "metadata": {},
     "output_type": "execute_result"
    }
   ],
   "source": [
    "'Juan' in tel"
   ]
  },
  {
   "cell_type": "code",
   "execution_count": 116,
   "id": "6af43b39-6017-4f69-b857-78f0066ed457",
   "metadata": {},
   "outputs": [
    {
     "data": {
      "text/plain": [
       "False"
      ]
     },
     "execution_count": 116,
     "metadata": {},
     "output_type": "execute_result"
    }
   ],
   "source": [
    "'Pedro' not in tel"
   ]
  },
  {
   "cell_type": "code",
   "execution_count": 118,
   "id": "9b8c0046-59e2-4feb-97b6-db9fe3959d66",
   "metadata": {},
   "outputs": [],
   "source": [
    "def suma(a,b):\n",
    "    return a+b    "
   ]
  },
  {
   "cell_type": "code",
   "execution_count": null,
   "id": "547c3a19-cbcf-4d78-98eb-993c9b687e6e",
   "metadata": {},
   "outputs": [],
   "source": [
    "def resta(a,b):\n",
    "    return a-b    "
   ]
  },
  {
   "cell_type": "code",
   "execution_count": 125,
   "id": "c3c71668-822e-4961-88a1-ace9b7f8c965",
   "metadata": {},
   "outputs": [],
   "source": [
    "def multiplicacion(a,b):\n",
    "    return a*b    "
   ]
  },
  {
   "cell_type": "code",
   "execution_count": null,
   "id": "5ea7f43f-96f4-4ecc-8779-da92d2f977d9",
   "metadata": {},
   "outputs": [],
   "source": [
    "def division(a,b):\n",
    "    return a/b    "
   ]
  },
  {
   "cell_type": "code",
   "execution_count": 127,
   "id": "bba5343f-eeba-4f12-9a85-c6272677767b",
   "metadata": {},
   "outputs": [
    {
     "name": "stdin",
     "output_type": "stream",
     "text": [
      "Ingrese un numero:  1\n",
      "Ingrese un numero:  2\n"
     ]
    }
   ],
   "source": [
    "numUno = int(input(\"Ingrese un numero: \"))\n",
    "numDos = int(input(\"Ingrese un numero: \"))"
   ]
  },
  {
   "cell_type": "code",
   "execution_count": 131,
   "id": "a2d97e27-dace-4e0e-b412-c73db597a701",
   "metadata": {},
   "outputs": [
    {
     "name": "stdout",
     "output_type": "stream",
     "text": [
      "Su suma es:  3\n"
     ]
    },
    {
     "ename": "NameError",
     "evalue": "name 'resta' is not defined",
     "output_type": "error",
     "traceback": [
      "\u001b[31m---------------------------------------------------------------------------\u001b[39m",
      "\u001b[31mNameError\u001b[39m                                 Traceback (most recent call last)",
      "\u001b[36mCell\u001b[39m\u001b[36m \u001b[39m\u001b[32mIn[131]\u001b[39m\u001b[32m, line 2\u001b[39m\n\u001b[32m      1\u001b[39m \u001b[38;5;28mprint\u001b[39m(\u001b[33m\"\u001b[39m\u001b[33mSu suma es: \u001b[39m\u001b[33m\"\u001b[39m,suma(numUno, numDos))\n\u001b[32m----> \u001b[39m\u001b[32m2\u001b[39m \u001b[38;5;28mprint\u001b[39m(\u001b[33m\"\u001b[39m\u001b[33mSu resta es: \u001b[39m\u001b[33m\"\u001b[39m,\u001b[43mresta\u001b[49m(numUno, numDos))\n\u001b[32m      3\u001b[39m \u001b[38;5;28mprint\u001b[39m(\u001b[33m\"\u001b[39m\u001b[33mSu suma es: \u001b[39m\u001b[33m\"\u001b[39m,multiplicacion(numUno, numDos))\n\u001b[32m      4\u001b[39m division(numUno, numDos)\n",
      "\u001b[31mNameError\u001b[39m: name 'resta' is not defined"
     ]
    }
   ],
   "source": [
    "print(\"Su suma es: \",suma(numUno, numDos))\n",
    "print(\"Su resta es: \",resta(numUno, numDos))\n",
    "print(\"Su suma es: \",multiplicacion(numUno, numDos))\n",
    "division(numUno, numDos)"
   ]
  },
  {
   "cell_type": "code",
   "execution_count": 133,
   "id": "6d141736-2c88-4b66-9739-8137cfe202ef",
   "metadata": {},
   "outputs": [],
   "source": [
    "def creartxt():\n",
    "    archi=open('datos.txt','w')\n",
    "    archi.close"
   ]
  },
  {
   "cell_type": "code",
   "execution_count": 138,
   "id": "087fa5ec-3ca5-4d1b-889c-c6e2913c9cd5",
   "metadata": {},
   "outputs": [],
   "source": [
    "def grabartxt():\n",
    "    archi=open('datos.txt','a')\n",
    "    archi.write('Linea 1 \\n')\n",
    "    archi.write('Linea 2 \\n')\n",
    "    archi.write('Linea 3 \\n')\n",
    "    archi.close"
   ]
  },
  {
   "cell_type": "code",
   "execution_count": 139,
   "id": "77899f0f-5cdf-411b-9183-fc5e8fb6b479",
   "metadata": {},
   "outputs": [],
   "source": [
    "creartxt()\n",
    "grabartxt()"
   ]
  },
  {
   "cell_type": "code",
   "execution_count": 140,
   "id": "f24e1ce8-cbc7-4012-a87e-ea9abbf1ffa2",
   "metadata": {},
   "outputs": [],
   "source": [
    "def leertxt():\n",
    "    archi=open('datos.txt','r')\n",
    "    linea=archi.readline()\n",
    "    while linea!= \"\":\n",
    "        print(linea)\n",
    "        linea=archi.readline()\n",
    "    archi.close()"
   ]
  },
  {
   "cell_type": "code",
   "execution_count": 141,
   "id": "1379fae0-cc93-4fab-8142-5fac3aead7db",
   "metadata": {},
   "outputs": [],
   "source": [
    "def leertxtEnLista():\n",
    "    archi=open('datos.txt','r')\n",
    "    lineas=archi.readlines()\n",
    "    print(lineas)\n",
    "    archi.close()"
   ]
  },
  {
   "cell_type": "code",
   "execution_count": 144,
   "id": "07aeae93-321a-425d-a7f9-5b99a6379a0f",
   "metadata": {},
   "outputs": [
    {
     "name": "stdout",
     "output_type": "stream",
     "text": [
      "['Linea 1 \\n', 'Linea 2 \\n', 'Linea 3 \\n', 'Linea 1 \\n', 'Linea 2 \\n', 'Linea 3 \\n']\n"
     ]
    }
   ],
   "source": [
    "leertxtEnLista()"
   ]
  },
  {
   "cell_type": "code",
   "execution_count": 150,
   "id": "a608dfb0-19d4-4678-a740-b429b887eab8",
   "metadata": {},
   "outputs": [],
   "source": [
    "def grabarArchivo(nombre):\n",
    "    file=open('nombre.txt','w')\n",
    "    file.write(nombre)\n",
    "    file.close()"
   ]
  },
  {
   "cell_type": "code",
   "execution_count": 151,
   "id": "b6568642-aa45-46a8-9b6f-55d77e830b78",
   "metadata": {},
   "outputs": [
    {
     "name": "stdin",
     "output_type": "stream",
     "text": [
      "Ingrese su nombre Claudia\n"
     ]
    }
   ],
   "source": [
    "nombre=input(\"Ingrese su nombre\")\n",
    "grabarArchivo(nombre)"
   ]
  }
 ],
 "metadata": {
  "kernelspec": {
   "display_name": "Python 3 (ipykernel)",
   "language": "python",
   "name": "python3"
  },
  "language_info": {
   "codemirror_mode": {
    "name": "ipython",
    "version": 3
   },
   "file_extension": ".py",
   "mimetype": "text/x-python",
   "name": "python",
   "nbconvert_exporter": "python",
   "pygments_lexer": "ipython3",
   "version": "3.13.7"
  }
 },
 "nbformat": 4,
 "nbformat_minor": 5
}
